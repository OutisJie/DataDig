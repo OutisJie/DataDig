{
 "cells": [
  {
   "cell_type": "code",
   "execution_count": 1,
   "metadata": {
    "collapsed": true
   },
   "outputs": [],
   "source": [
    "import pandas as pd\n",
    "import numpy as np\n",
    "import random as rd\n",
    "import math\n",
    "import matplotlib.pyplot as plt\n",
    "import time\n",
    "\n",
    "from sklearn.cluster import DBSCAN, KMeans\n",
    "from sklearn.mixture import GaussianMixture\n",
    "from sklearn import metrics\n",
    "from lshash.lshash import LSHash"
   ]
  },
  {
   "cell_type": "code",
   "execution_count": 2,
   "metadata": {
    "collapsed": true
   },
   "outputs": [],
   "source": [
    "def pre_data():\n",
    "    #读取文件，整理数据\n",
    "    df = pd.read_csv('../reco_data/trade.csv')\n",
    "    df1 = df.groupby([df.vipno, df.pluno])[['amt']].sum()\n",
    "    \n",
    "    #这里将data转换为以vipno为行，pluno为列，便于之后处理\n",
    "    data = df1.unstack(0).fillna(0).round().transpose().loc['amt']\n",
    "    del data.index.name\n",
    "    del data.transpose().index.name\n",
    "    #data_array中每一项代表一个vipno的数组\n",
    "    data_array = data.as_matrix()\n",
    "    \n",
    "    vipno_num = data_array.shape[0]\n",
    "    vipno_len = data_array.shape[1]\n",
    "    return data, data_array, vipno_num, vipno_len"
   ]
  },
  {
   "cell_type": "code",
   "execution_count": 3,
   "metadata": {
    "collapsed": true
   },
   "outputs": [],
   "source": [
    "def knn(data, data_array, vipno_len, vipno_num, k, vipno_pos, hash_size):\n",
    "    lsh = LSHash(hash_size, input_dim = vipno_len )\n",
    "    #将矩阵导入，生成哈希表\n",
    "    for  vipno in range(vipno_num):\n",
    "        #将所有vipno导入哈希表，将vipno的值作为extra_data\n",
    "        lsh.index(data_array[vipno], extra_data =  data.iloc[vipno].name)\n",
    "    else:\n",
    "        #得到hash_table的查询结果\n",
    "        hash_table =  lsh.query(data_array[vipno_pos], num_results= k + 1, distance_func=\"euclidean\")\n",
    "        result = []\n",
    "        for res in hash_table:\n",
    "            result.append(res[0][1])\n",
    "        else:\n",
    "            return result[1:]"
   ]
  },
  {
   "cell_type": "code",
   "execution_count": 4,
   "metadata": {
    "collapsed": true
   },
   "outputs": [],
   "source": [
    "def compare_kmeans(data, data_array, vipno_num):\n",
    "    # 计算kmeans聚类\n",
    "    start = time.clock()\n",
    "    km_cluster_labels = KMeans(n_clusters = 2, random_state = 10).fit_predict(data_array)\n",
    "    km_time = (time.clock() - start)\n",
    "    #计算gmm聚类\n",
    "    n_componets = 2\n",
    "    start1 = time.clock()\n",
    "    gm_cluster_labels = GaussianMixture(n_components = 2, covariance_type = 'spherical').fit(data).predict(data)\n",
    "    gm_time = (time.clock() - start1)\n",
    "    #比较\n",
    "    main_cluster = np.argmax(np.bincount(gm_cluster_labels))\n",
    "    count = 0\n",
    "    for label_pos in range(0, vipno_num - 1):\n",
    "        if km_cluster_labels[label_pos] == gm_cluster_labels[label_pos] - main_cluster:\n",
    "            count +=1\n",
    "    \n",
    "    accuracy = float(count)/vipno_num\n",
    "    print(\"Assume kmeans is real, GMM accuracy = \", accuracy)\n",
    "    return km_time, gm_time"
   ]
  },
  {
   "cell_type": "code",
   "execution_count": 5,
   "metadata": {
    "collapsed": true
   },
   "outputs": [],
   "source": [
    "def compare_dbscan(data, data_array, vipno_num):\n",
    "    #计算DBSCAN\n",
    "    start = time.clock()\n",
    "    db = DBSCAN(eps = 103, min_samples = 2).fit(data)\n",
    "    db_time = (time.clock() - start)\n",
    "    db_cluster_labels = db.labels_\n",
    "    \n",
    "    \n",
    "    #计算gmm聚类\n",
    "    n_componets = 2\n",
    "    gm_cluster_labels = GaussianMixture(n_components = 1, covariance_type = 'spherical').fit(data_array).predict(data_array)\n",
    "    \n",
    "    #比较\n",
    "    main_cluster = np.argmax(np.bincount(gm_cluster_labels))\n",
    "    count = 0\n",
    "    for label_pos in range(0, vipno_num - 1):\n",
    "        if db_cluster_labels[label_pos] == gm_cluster_labels[label_pos] - main_cluster:\n",
    "            count +=1\n",
    "    \n",
    "    accuracy = float(count)/vipno_num\n",
    "    print(\"Assume dbscan is real, GMM accuracy = \", accuracy)\n",
    "    return db_time"
   ]
  },
  {
   "cell_type": "code",
   "execution_count": 6,
   "metadata": {
    "collapsed": true
   },
   "outputs": [],
   "source": [
    "def verification(data, data_array, vipno_num, vipno_len):\n",
    "    \n",
    "    vipno_pos = rd.randint(0, vipno_num)\n",
    "\n",
    "    n_component = 2\n",
    "    # 计算gmm聚类\n",
    "    cluster_labels = GaussianMixture(n_components = n_component, covariance_type = 'spherical').fit(data_array).predict(data_array)\n",
    "    print(cluster_labels)\n",
    "    labels_dic = pd.DataFrame(np.row_stack((data.index, cluster_labels))) \n",
    "    labels_dic = labels_dic.transpose().set_index(labels_dic.transpose()[0])\n",
    "\n",
    "    for size in [0.01, 0.05, 0.1, 0.2, 0.3, 0.5]:\n",
    "        for k in [1, 2, 3, 4, 5]:\n",
    "\n",
    "            # get the result of KNN\n",
    "            hash_size = int(vipno_num * size)\n",
    "            results = knn(data, data_array, vipno_len, vipno_num, k, vipno_pos, hash_size)\n",
    "            if len(results) < 1:\n",
    "                print('For n_component = %d, hash_size = %d, k = %d: no result from KNN.\\n' %(n_component, hash_size, k))\n",
    "\n",
    "            else:\n",
    "                print('For n_component = %d, hash_size = %d, k = %d, vipno_input = %d:' %(n_component, hash_size, k, results[0]))\n",
    "\n",
    "                # cluster of the vipno itself\n",
    "                cluster = labels_dic.loc[results[0]][1]\n",
    "\n",
    "                # and compare\n",
    "                for result in results:\n",
    "                    cluster_result = labels_dic.loc[results[0]][1]\n",
    "                    print('vipno_output: %d, result: %s' %(result, 'same' if cluster==cluster_result else 'not same.' ))\n",
    "    return "
   ]
  },
  {
   "cell_type": "code",
   "execution_count": 7,
   "metadata": {
    "scrolled": false
   },
   "outputs": [
    {
     "name": "stdout",
     "output_type": "stream",
     "text": [
      "Assume kmeans is real, GMM accuracy =  0.9966442953020134\n",
      "Assume dbscan is real, GMM accuracy =  0.6040268456375839\n",
      "[1 1 1 1 1 1 1 1 1 1 1 1 1 1 1 1 1 1 1 1 1 1 1 1 1 1 1 1 1 1 1 1 1 1 1 1 1\n",
      " 1 1 1 1 1 1 1 1 1 1 1 1 1 1 1 1 1 1 1 1 1 1 1 1 1 1 1 1 1 1 1 1 1 1 1 1 1\n",
      " 1 1 1 1 1 1 1 1 1 1 1 1 1 1 1 1 1 1 1 1 1 1 1 1 1 1 1 1 1 1 1 1 1 1 1 1 1\n",
      " 1 1 1 1 1 1 1 1 1 1 1 1 1 1 1 1 1 1 1 1 1 1 1 1 1 1 1 1 1 1 1 1 1 1 1 1 1\n",
      " 1 1 1 1 1 1 1 1 1 1 1 1 1 1 1 1 1 1 1 1 1 1 1 1 1 1 1 1 1 1 1 1 1 1 1 1 1\n",
      " 1 1 1 1 1 1 1 1 1 1 1 1 1 0 1 1 1 1 1 1 1 1 1 1 1 1 1 1 1 1 1 1 1 1 1 1 1\n",
      " 1 1 1 1 1 1 1 1 1 1 1 1 1 1 1 1 1 1 1 1 1 1 1 1 1 1 1 1 1 1 1 1 1 1 1 1 1\n",
      " 1 1 1 1 1 1 1 1 1 1 1 1 1 1 1 1 1 1 1 1 1 1 1 1 1 1 1 1 1 1 1 1 1 1 1 1 1\n",
      " 1 1]\n",
      "For n_component = 2, hash_size = 2, k = 1, vipno_input = 1591011326672:\n",
      "vipno_output: 1591011326672, result: same\n",
      "For n_component = 2, hash_size = 2, k = 2, vipno_input = 1595132332932:\n",
      "vipno_output: 1595132332932, result: same\n",
      "vipno_output: 2900000549289, result: same\n",
      "For n_component = 2, hash_size = 2, k = 3, vipno_input = 2900000771062:\n",
      "vipno_output: 2900000771062, result: same\n",
      "vipno_output: 1591150424154, result: same\n",
      "vipno_output: 1598140073323, result: same\n",
      "For n_component = 2, hash_size = 2, k = 4, vipno_input = 1593140967467:\n",
      "vipno_output: 1593140967467, result: same\n",
      "vipno_output: 1590142156790, result: same\n",
      "vipno_output: 1590142434362, result: same\n",
      "vipno_output: 1595151575662, result: same\n",
      "For n_component = 2, hash_size = 2, k = 5, vipno_input = 1590142192491:\n",
      "vipno_output: 1590142192491, result: same\n",
      "vipno_output: 1590142156790, result: same\n",
      "vipno_output: 1598140121611, result: same\n",
      "vipno_output: 1598140073323, result: same\n",
      "vipno_output: 1595142205462, result: same\n",
      "For n_component = 2, hash_size = 14, k = 1: no result from KNN.\n",
      "\n",
      "For n_component = 2, hash_size = 14, k = 2: no result from KNN.\n",
      "\n",
      "For n_component = 2, hash_size = 14, k = 3: no result from KNN.\n",
      "\n",
      "For n_component = 2, hash_size = 14, k = 4: no result from KNN.\n",
      "\n",
      "For n_component = 2, hash_size = 14, k = 5: no result from KNN.\n",
      "\n",
      "For n_component = 2, hash_size = 29, k = 1: no result from KNN.\n",
      "\n",
      "For n_component = 2, hash_size = 29, k = 2: no result from KNN.\n",
      "\n",
      "For n_component = 2, hash_size = 29, k = 3: no result from KNN.\n",
      "\n",
      "For n_component = 2, hash_size = 29, k = 4: no result from KNN.\n",
      "\n",
      "For n_component = 2, hash_size = 29, k = 5: no result from KNN.\n",
      "\n",
      "For n_component = 2, hash_size = 59, k = 1: no result from KNN.\n",
      "\n",
      "For n_component = 2, hash_size = 59, k = 2: no result from KNN.\n",
      "\n",
      "For n_component = 2, hash_size = 59, k = 3: no result from KNN.\n",
      "\n",
      "For n_component = 2, hash_size = 59, k = 4: no result from KNN.\n",
      "\n",
      "For n_component = 2, hash_size = 59, k = 5: no result from KNN.\n",
      "\n",
      "For n_component = 2, hash_size = 89, k = 1: no result from KNN.\n",
      "\n",
      "For n_component = 2, hash_size = 89, k = 2: no result from KNN.\n",
      "\n",
      "For n_component = 2, hash_size = 89, k = 3: no result from KNN.\n",
      "\n",
      "For n_component = 2, hash_size = 89, k = 4: no result from KNN.\n",
      "\n",
      "For n_component = 2, hash_size = 89, k = 5: no result from KNN.\n",
      "\n",
      "For n_component = 2, hash_size = 149, k = 1: no result from KNN.\n",
      "\n",
      "For n_component = 2, hash_size = 149, k = 2: no result from KNN.\n",
      "\n",
      "For n_component = 2, hash_size = 149, k = 3: no result from KNN.\n",
      "\n",
      "For n_component = 2, hash_size = 149, k = 4: no result from KNN.\n",
      "\n",
      "For n_component = 2, hash_size = 149, k = 5: no result from KNN.\n",
      "\n"
     ]
    },
    {
     "data": {
      "image/png": "[encoded data removed]",
      "text/plain": [
       "<matplotlib.figure.Figure at 0x1d6968fd320>"
      ]
     },
     "metadata": {},
     "output_type": "display_data"
    },
    {
     "name": "stdout",
     "output_type": "stream",
     "text": [
      "KMeans: 0.26888124739721875 DBSCAN: 0.8163646440417477 GMM: 0.06372097385018738\n"
     ]
    }
   ],
   "source": [
    "if __name__ == '__main__':\n",
    "    data, data_array, vipno_num, vipno_len = pre_data()\n",
    "    km_time, gm_time = compare_kmeans(data, data_array, vipno_num)\n",
    "    db_time = compare_dbscan(data, data_array, vipno_num)\n",
    "    verification(data, data_array, vipno_num, vipno_len)\n",
    "    \n",
    "    name_list = ['KMeans','DBSCAN','GMM']  \n",
    "    time_list = [km_time, db_time, gm_time]  \n",
    "    color_list = ['red', 'green', 'blue']\n",
    "    plt.bar(range(len(time_list)), time_list,color=color_list,tick_label=name_list)  \n",
    "    plt.show()  \n",
    "    print('KMeans:', km_time,'DBSCAN:',db_time,'GMM:', gm_time)"
   ]
  },
  {
   "cell_type": "code",
   "execution_count": null,
   "metadata": {
    "collapsed": true
   },
   "outputs": [],
   "source": []
  }
 ],
 "metadata": {
  "kernelspec": {
   "display_name": "Python 3",
   "language": "python",
   "name": "python3"
  },
  "language_info": {
   "codemirror_mode": {
    "name": "ipython",
    "version": 3
   },
   "file_extension": ".py",
   "mimetype": "text/x-python",
   "name": "python",
   "nbconvert_exporter": "python",
   "pygments_lexer": "ipython3",
   "version": "3.6.2"
  }
 },
 "nbformat": 4,
 "nbformat_minor": 2
}
