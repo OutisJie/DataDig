{
 "cells": [
  {
   "cell_type": "code",
   "execution_count": 1,
   "metadata": {
    "collapsed": true
   },
   "outputs": [],
   "source": [
    "import pandas as pd\n",
    "import numpy as np\n",
    "import random as rd\n",
    "import math\n",
    "import matplotlib.pyplot as plt\n",
    "import time\n",
    "\n",
    "from sklearn.cluster import KMeans\n",
    "from sklearn.metrics import silhouette_samples, silhouette_score\n",
    "from lshash.lshash import LSHash"
   ]
  },
  {
   "cell_type": "code",
   "execution_count": 2,
   "metadata": {
    "collapsed": true
   },
   "outputs": [],
   "source": [
    "def pre_data():\n",
    "    #读取文件，整理数据\n",
    "    df = pd.read_csv('../reco_data/trade.csv')\n",
    "    df1 = df.groupby([df.vipno, df.pluno])[['amt']].sum()\n",
    "    \n",
    "    #这里将data转换为以vipno为行，pluno为列，便于之后处理\n",
    "    data = df1.unstack(0).fillna(0).round().transpose().loc['amt']\n",
    "    del data.index.name\n",
    "    del data.transpose().index.name\n",
    "    #data_array中每一项代表一个vipno的数组\n",
    "    data_array = data.as_matrix()\n",
    "    \n",
    "    vipno_num = data_array.shape[0]\n",
    "    vipno_len = data_array.shape[1]\n",
    "    return data, data_array, vipno_num, vipno_len\n",
    "\n",
    "def knn(data, data_array, vipno_len, vipno_num, k, vipno_pos, hash_size):\n",
    "    lsh = LSHash(hash_size, input_dim = vipno_len )\n",
    "    #将矩阵导入，生成哈希表\n",
    "    for  vipno in range(vipno_num):\n",
    "        #将所有vipno导入哈希表，将vipno的值作为extra_data\n",
    "        lsh.index(data_array[vipno], extra_data =  data.iloc[vipno].name)\n",
    "    else:\n",
    "        #得到hash_table的查询结果\n",
    "        hash_table =  lsh.query(data_array[vipno_pos], num_results= k + 1, distance_func=\"euclidean\")\n",
    "        result = []\n",
    "        for res in hash_table:\n",
    "            result.append(res[0][1])\n",
    "        else:\n",
    "            return result[1:]"
   ]
  },
  {
   "cell_type": "code",
   "execution_count": 3,
   "metadata": {
    "collapsed": true
   },
   "outputs": [],
   "source": [
    "def question_a(data_array, vipno_num):\n",
    "    #初始化簇的个数\n",
    "    n_clusters = int(math.sqrt(vipno_num)/2)\n",
    "    print('Initial k: ' + str(n_clusters))\n",
    "    \n",
    "    silhouette_avg_array = []\n",
    "    #设置范围为初始值的+ -10\n",
    "    for n in range(2, n_clusters*2 - 2):\n",
    "        \n",
    "        clusterer = KMeans(n_clusters = n, random_state = 10)\n",
    "        cluster_labels = clusterer.fit_predict(data_array)\n",
    "    \n",
    "        #计算silhouette参数\n",
    "        silhouette_avg = silhouette_score(data_array, cluster_labels)\n",
    "        silhouette_avg_array.append(silhouette_avg)\n",
    "    \n",
    "        print(\"For n_clusters = \", n,\n",
    "              \"The average silhouette_score is :\", silhouette_avg)\n",
    "    \n",
    "    #绘制图像\n",
    "    plt.plot( range(2, n_clusters*2 - 2), silhouette_avg_array, 'r-o')\n",
    "    plt.ylim((-1, 1))\n",
    "    plt.xlabel('n_cluster : k')\n",
    "    plt.ylabel('average sihouette_score')\n",
    "    plt.suptitle('silhouette -- k chat')\n",
    "    plt.show()\n",
    "    return"
   ]
  },
  {
   "cell_type": "code",
   "execution_count": 4,
   "metadata": {
    "collapsed": true
   },
   "outputs": [],
   "source": [
    "def question_b(data, data_array, vipno_num, vipno_len):\n",
    "    n_cluster = 2\n",
    "    #计算聚类\n",
    "    start = time.clock()\n",
    "    clusterers = KMeans(n_clusters = 2, random_state = 10).fit(data_array)\n",
    "    km_time = time.clock() - start\n",
    "    print(clusterers.predict(data_array))\n",
    "    #随机取vipno\n",
    "    vipno_pos = rd.randint(0, vipno_num)\n",
    "    #对比knn和kmeans\n",
    "    for size in [0.01, 0.05, 0.1, 0.2, 0.3, 0.5]:\n",
    "        for k in [1, 2, 3, 4, 5]:\n",
    "            hash_size = int(vipno_num * size)\n",
    "            start1 = time.clock()\n",
    "            result = knn(data, data_array, vipno_len, vipno_num, k, vipno_pos, hash_size)\n",
    "            kn_time = time.clock() - start1\n",
    "            #results中始终会包含输入\n",
    "            if len(result) < 1:\n",
    "                print(\"for n_cluster = \" , n_cluster,\n",
    "                     \", hash_size = \", hash_size,\n",
    "                     \", k = \", k,\n",
    "                     \": no knn output\")\n",
    "            else:\n",
    "                #判断输入的vipno所在的簇\n",
    "#                 print(result)\n",
    "#                 print(data.transpose().loc['amt'].loc[result[0]])\n",
    "                input_label = clusterers.predict(data.loc[result[0]].values.reshape(1, -1))\n",
    "                #比较输出的vipno\n",
    "                print(\"for n_cluster = \" , n_cluster, \n",
    "                      \", hash_size = \", hash_size,\n",
    "                      \", k = \", k,\n",
    "                      \", vipno_pos = \", vipno_pos, \n",
    "                      \", knn = \", result)\n",
    "                for res in result:\n",
    "                    output_label = clusterers.predict(data.loc[res].values.reshape(1, -1))\n",
    "                    print(\"output: \", res)\n",
    "                    if(input_label == output_label):\n",
    "                         print(\"Same cluster\")\n",
    "                    else:\n",
    "                         print(\"Not same cluster\")\n",
    "                print(\"\")\n",
    "    return km_time, kn_time"
   ]
  },
  {
   "cell_type": "code",
   "execution_count": 5,
   "metadata": {
    "scrolled": false
   },
   "outputs": [
    {
     "name": "stdout",
     "output_type": "stream",
     "text": [
      "Initial k: 8\n",
      "For n_clusters =  2 The average silhouette_score is : 0.940586344296\n",
      "For n_clusters =  3 The average silhouette_score is : 0.86216444571\n",
      "For n_clusters =  4 The average silhouette_score is : 0.723579173898\n",
      "For n_clusters =  5 The average silhouette_score is : 0.726903182347\n",
      "For n_clusters =  6 The average silhouette_score is : 0.314762191847\n",
      "For n_clusters =  7 The average silhouette_score is : 0.628329266266\n",
      "For n_clusters =  8 The average silhouette_score is : 0.485552562437\n",
      "For n_clusters =  9 The average silhouette_score is : 0.513205360844\n",
      "For n_clusters =  10 The average silhouette_score is : 0.259986673116\n",
      "For n_clusters =  11 The average silhouette_score is : 0.334443201272\n",
      "For n_clusters =  12 The average silhouette_score is : 0.348167787607\n",
      "For n_clusters =  13 The average silhouette_score is : 0.30429823005\n"
     ]
    },
    {
     "data": {
      "image/png": "[encoded data removed]",
      "text/plain": [
       "<matplotlib.figure.Figure at 0x2c5eb0cef60>"
      ]
     },
     "metadata": {},
     "output_type": "display_data"
    },
    {
     "name": "stdout",
     "output_type": "stream",
     "text": [
      "[0 0 0 0 0 0 0 0 0 0 0 0 0 0 0 0 0 0 0 0 0 0 0 0 0 0 0 0 0 0 0 0 0 0 0 0 0\n",
      " 0 0 0 0 0 0 0 0 0 0 0 0 0 0 0 0 0 0 0 0 0 0 0 0 0 0 0 0 0 0 0 0 0 0 0 0 0\n",
      " 0 0 0 0 0 0 0 0 0 0 0 0 0 0 0 0 0 0 0 0 0 0 0 0 0 0 0 0 0 0 0 0 0 0 0 0 0\n",
      " 0 0 0 0 0 0 0 0 0 0 0 0 0 0 0 0 0 0 0 0 0 0 0 0 0 0 0 0 0 0 0 0 0 0 0 0 0\n",
      " 0 0 0 0 0 0 0 0 0 0 0 0 0 0 0 0 0 0 0 0 0 0 0 0 0 0 0 0 0 0 0 0 0 0 0 0 0\n",
      " 0 0 0 0 0 0 0 0 0 0 0 0 0 0 0 0 0 0 0 0 0 0 0 0 0 0 0 0 0 0 0 0 0 0 0 0 0\n",
      " 0 0 0 0 0 0 0 0 0 0 0 0 0 0 0 0 0 0 0 0 0 0 0 0 0 0 1 0 0 0 0 0 0 0 0 0 0\n",
      " 0 0 0 0 0 0 0 0 0 0 0 0 0 0 0 0 0 0 0 0 0 0 0 0 0 0 0 0 0 0 0 0 0 0 0 0 0\n",
      " 0 0]\n",
      "for n_cluster =  2 , hash_size =  2 , k =  1 , vipno_pos =  6 , knn =  [1595151786686]\n",
      "output:  1595151786686\n",
      "Same cluster\n",
      "\n",
      "for n_cluster =  2 , hash_size =  2 , k =  2 , vipno_pos =  6 , knn =  [1590142175272, 1591016151613]\n",
      "output:  1590142175272\n",
      "Same cluster\n",
      "output:  1591016151613\n",
      "Same cluster\n",
      "\n",
      "for n_cluster =  2 , hash_size =  2 , k =  3 , vipno_pos =  6 , knn =  [1595151786686, 1591016151613, 1591011326672]\n",
      "output:  1595151786686\n",
      "Same cluster\n",
      "output:  1591016151613\n",
      "Same cluster\n",
      "output:  1591011326672\n",
      "Same cluster\n",
      "\n",
      "for n_cluster =  2 , hash_size =  2 , k =  4 , vipno_pos =  6 , knn =  [1595132332932, 1591016151613, 1595151110818, 1598140121611]\n",
      "output:  1595132332932\n",
      "Same cluster\n",
      "output:  1591016151613\n",
      "Same cluster\n",
      "output:  1595151110818\n",
      "Same cluster\n",
      "output:  1598140121611\n",
      "Same cluster\n",
      "\n",
      "for n_cluster =  2 , hash_size =  2 , k =  5 , vipno_pos =  6 , knn =  [1595151786686, 1590142192491, 1590151544861, 1590142175272, 1591016151613]\n",
      "output:  1595151786686\n",
      "Same cluster\n",
      "output:  1590142192491\n",
      "Same cluster\n",
      "output:  1590151544861\n",
      "Same cluster\n",
      "output:  1590142175272\n",
      "Same cluster\n",
      "output:  1591016151613\n",
      "Same cluster\n",
      "\n",
      "for n_cluster =  2 , hash_size =  14 , k =  1 : no knn output\n",
      "for n_cluster =  2 , hash_size =  14 , k =  2 : no knn output\n",
      "for n_cluster =  2 , hash_size =  14 , k =  3 : no knn output\n",
      "for n_cluster =  2 , hash_size =  14 , k =  4 : no knn output\n",
      "for n_cluster =  2 , hash_size =  14 , k =  5 : no knn output\n",
      "for n_cluster =  2 , hash_size =  29 , k =  1 : no knn output\n",
      "for n_cluster =  2 , hash_size =  29 , k =  2 : no knn output\n",
      "for n_cluster =  2 , hash_size =  29 , k =  3 : no knn output\n",
      "for n_cluster =  2 , hash_size =  29 , k =  4 : no knn output\n",
      "for n_cluster =  2 , hash_size =  29 , k =  5 : no knn output\n",
      "for n_cluster =  2 , hash_size =  59 , k =  1 : no knn output\n",
      "for n_cluster =  2 , hash_size =  59 , k =  2 : no knn output\n",
      "for n_cluster =  2 , hash_size =  59 , k =  3 : no knn output\n",
      "for n_cluster =  2 , hash_size =  59 , k =  4 : no knn output\n",
      "for n_cluster =  2 , hash_size =  59 , k =  5 : no knn output\n",
      "for n_cluster =  2 , hash_size =  89 , k =  1 : no knn output\n",
      "for n_cluster =  2 , hash_size =  89 , k =  2 : no knn output\n",
      "for n_cluster =  2 , hash_size =  89 , k =  3 : no knn output\n",
      "for n_cluster =  2 , hash_size =  89 , k =  4 : no knn output\n",
      "for n_cluster =  2 , hash_size =  89 , k =  5 : no knn output\n",
      "for n_cluster =  2 , hash_size =  149 , k =  1 : no knn output\n",
      "for n_cluster =  2 , hash_size =  149 , k =  2 : no knn output\n",
      "for n_cluster =  2 , hash_size =  149 , k =  3 : no knn output\n",
      "for n_cluster =  2 , hash_size =  149 , k =  4 : no knn output\n",
      "for n_cluster =  2 , hash_size =  149 , k =  5 : no knn output\n"
     ]
    },
    {
     "data": {
      "image/png": "[encoded data removed]",
      "text/plain": [
       "<matplotlib.figure.Figure at 0x2c5e773b470>"
      ]
     },
     "metadata": {},
     "output_type": "display_data"
    },
    {
     "name": "stdout",
     "output_type": "stream",
     "text": [
      "KNN: 0.193465146842418 KMeans: 0.2751865891376744\n"
     ]
    }
   ],
   "source": [
    "if __name__ == '__main__':\n",
    "    data, data_array, vipno_num, vipno_len = pre_data()\n",
    "    question_a(data_array, vipno_num)\n",
    "    #可知当k=2时，silhouette的值最高\n",
    "    km_time, kn_time = question_b(data, data_array, vipno_num, vipno_len)\n",
    "    name_list = ['KNN','KMeans']  \n",
    "    time_list = [kn_time, km_time]  \n",
    "    color_list = ['red', 'green']\n",
    "    plt.bar(range(len(time_list)), time_list,color=color_list,tick_label=name_list)  \n",
    "    plt.show()  \n",
    "    print(\"KNN:\", kn_time, \"KMeans:\", km_time)"
   ]
  },
  {
   "cell_type": "code",
   "execution_count": null,
   "metadata": {
    "collapsed": true
   },
   "outputs": [],
   "source": []
  },
  {
   "cell_type": "code",
   "execution_count": null,
   "metadata": {
    "collapsed": true
   },
   "outputs": [],
   "source": []
  }
 ],
 "metadata": {
  "kernelspec": {
   "display_name": "Python 3",
   "language": "python",
   "name": "python3"
  },
  "language_info": {
   "codemirror_mode": {
    "name": "ipython",
    "version": 3
   },
   "file_extension": ".py",
   "mimetype": "text/x-python",
   "name": "python",
   "nbconvert_exporter": "python",
   "pygments_lexer": "ipython3",
   "version": "3.6.2"
  }
 },
 "nbformat": 4,
 "nbformat_minor": 2
}
