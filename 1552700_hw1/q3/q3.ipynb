{
 "cells": [
  {
   "cell_type": "code",
   "execution_count": 1,
   "metadata": {
    "collapsed": true
   },
   "outputs": [],
   "source": [
    "import pandas as pd\n",
    "import numpy as np\n",
    "import random as rd\n",
    "import math\n",
    "import matplotlib.pyplot as plt\n",
    "import time \n",
    "\n",
    "from sklearn.cluster import KMeans\n",
    "from sklearn.cluster import DBSCAN\n",
    "from sklearn.metrics import silhouette_samples, silhouette_score\n",
    "from lshash.lshash import LSHash"
   ]
  },
  {
   "cell_type": "code",
   "execution_count": 2,
   "metadata": {
    "collapsed": true
   },
   "outputs": [],
   "source": [
    "def pre_data():\n",
    "    #读取文件，整理数据\n",
    "    df = pd.read_csv('../reco_data/trade.csv')\n",
    "    df1 = df.groupby([df.vipno, df.pluno])[['amt']].sum()\n",
    "    \n",
    "    #这里将data转换为以vipno为行，pluno为列，便于之后处理\n",
    "    data = df1.unstack(0).fillna(0).round().transpose().loc['amt']\n",
    "    del data.index.name\n",
    "    del data.transpose().index.name\n",
    "    #data_array中每一项代表一个vipno的数组\n",
    "    data_array = data.as_matrix()\n",
    "    \n",
    "    vipno_num = data_array.shape[0]\n",
    "    vipno_len = data_array.shape[1]\n",
    "    return data, data_array, vipno_num, vipno_len"
   ]
  },
  {
   "cell_type": "code",
   "execution_count": 3,
   "metadata": {
    "collapsed": true
   },
   "outputs": [],
   "source": [
    "def knn(data, data_array, vipno_len, vipno_num, k, vipno_pos, hash_size):\n",
    "    lsh = LSHash(hash_size, input_dim = vipno_len )\n",
    "    #将矩阵导入，生成哈希表\n",
    "    for  vipno in range(vipno_num):\n",
    "        #将所有vipno导入哈希表，将vipno的值作为extra_data\n",
    "        lsh.index(data_array[vipno], extra_data =  data.iloc[vipno].name)\n",
    "    else:\n",
    "        #得到hash_table的查询结果\n",
    "        hash_table =  lsh.query(data_array[vipno_pos], num_results= k + 1, distance_func=\"euclidean\")\n",
    "        result = []\n",
    "        for res in hash_table:\n",
    "            result.append(res[0][1])\n",
    "        else:\n",
    "            return result[1:]"
   ]
  },
  {
   "cell_type": "code",
   "execution_count": 4,
   "metadata": {
    "collapsed": true
   },
   "outputs": [],
   "source": [
    "def question_a(data_array):\n",
    "    #DBSCAN算法\n",
    "    eps_array = []\n",
    "    silhouette_avg_array = []\n",
    "    for eps in range(50, 120):\n",
    "        #聚类\n",
    "        db = DBSCAN(eps = eps, min_samples = 2).fit(data)\n",
    "        #聚类标签数组\n",
    "        cluster_labels =  db.labels_\n",
    "       \n",
    "        #聚类的个数，标签-1对应的样本表示噪点\n",
    "        n_clusters = len(set(cluster_labels)) - (1 if -1 in cluster_labels else 0)\n",
    "        if(n_clusters < 1):\n",
    "             print(\"For eps=\", eps, \n",
    "                   \"All samples are noise\")\n",
    "        else:\n",
    "            #计算silhouette系数\n",
    "            silhouette_avg = silhouette_score(data_array, cluster_labels)\n",
    "            silhouette_avg_array.append(silhouette_avg)\n",
    "            eps_array.append(eps)\n",
    "            print(\"For eps=\", eps, \n",
    "                  \"The number of clusters is:\", n_clusters,\n",
    "                  \"The average silhouette_score is:\", silhouette_avg)\n",
    "    \n",
    "    #绘制图像\n",
    "    plt.plot(eps_array, silhouette_avg_array, 'r-o')\n",
    "    plt.xlabel('eps')\n",
    "    plt.ylabel('average sihouette_score')\n",
    "    plt.suptitle('silhouette --eps chat')\n",
    "    plt.show()\n",
    "    return"
   ]
  },
  {
   "cell_type": "code",
   "execution_count": 5,
   "metadata": {
    "collapsed": true
   },
   "outputs": [],
   "source": [
    "def question_b(data, data_array, vipno_num, vipno_len, eps):\n",
    "    #由a可知\n",
    "    n_cluster = 2\n",
    "    #dbscan\n",
    "    start = time.clock()\n",
    "    db = DBSCAN(eps = 103, min_samples = 2).fit(data)\n",
    "    cluster_labels = db.labels_\n",
    "    db_time = time.clock() - start\n",
    "    print(cluster_labels)\n",
    "    \n",
    "    labels_dic = pd.DataFrame(np.row_stack((data.index, cluster_labels))) \n",
    "    labels_dic = labels_dic.transpose().set_index(labels_dic.transpose()[0])\n",
    "    #随机抽取vipno_pos\n",
    "    vipno_pos = rd.randint(0,vipno_num)\n",
    "    for size in [0.01, 0.05, 0.1, 0.2, 0.3, 0.5]:\n",
    "        for k in [1, 2, 3, 4, 5]:\n",
    "            #计算knn\n",
    "            hash_size = int(vipno_num * size)\n",
    "            start1 = time.clock()\n",
    "            result = knn(data, data_array, vipno_len, vipno_num, k, vipno_pos, hash_size)\n",
    "            kn_time = time.clock() - start1\n",
    "            #results中始终会包含输入\n",
    "            if len(result) < 1:\n",
    "                print(\"for n_cluster = \" , n_cluster,\n",
    "                     \", hash_size = \", hash_size,\n",
    "                     \", k = \", k,\n",
    "                     \": no knn output\")\n",
    "            else:\n",
    "                #判断输入的vipno所在的簇\n",
    "                input_label = labels_dic.loc[result[0]][1]\n",
    "                print(\"for n_cluster = \" , n_cluster,\n",
    "                      \", hash_size = \", hash_size,\n",
    "                      \", k = \", k,\n",
    "                      \", vipno_pos = \", vipno_pos,\n",
    "                      \", knn: \", result)\n",
    "                #比较输出的vipno\n",
    "                for res in result:\n",
    "                    output_label =  labels_dic.loc[res][1]\n",
    "                    if(input_label == output_label):\n",
    "                        print(\"output: \", res, \" Same cluster\")\n",
    "                    else:\n",
    "                        print(\"output: \", res, \" Not same cluster\")\n",
    "    return db_time, kn_time"
   ]
  },
  {
   "cell_type": "code",
   "execution_count": 6,
   "metadata": {
    "scrolled": false
   },
   "outputs": [
    {
     "name": "stdout",
     "output_type": "stream",
     "text": [
      "For eps= 50 The number of clusters is: 2 The average silhouette_score is: -0.212221943267\n",
      "For eps= 51 The number of clusters is: 2 The average silhouette_score is: -0.207681651962\n",
      "For eps= 52 The number of clusters is: 2 The average silhouette_score is: -0.207681651962\n",
      "For eps= 53 The number of clusters is: 3 The average silhouette_score is: -0.209481796945\n",
      "For eps= 54 The number of clusters is: 3 The average silhouette_score is: -0.20814449635\n",
      "For eps= 55 The number of clusters is: 3 The average silhouette_score is: -0.20468195202\n",
      "For eps= 56 The number of clusters is: 3 The average silhouette_score is: -0.199704433904\n",
      "For eps= 57 The number of clusters is: 2 The average silhouette_score is: -0.194028935983\n",
      "For eps= 58 The number of clusters is: 2 The average silhouette_score is: -0.187075341787\n",
      "For eps= 59 The number of clusters is: 2 The average silhouette_score is: -0.182555482035\n",
      "For eps= 60 The number of clusters is: 2 The average silhouette_score is: -0.178271264861\n",
      "For eps= 61 The number of clusters is: 1 The average silhouette_score is: 0.0104240899559\n",
      "For eps= 62 The number of clusters is: 1 The average silhouette_score is: 0.014039844931\n",
      "For eps= 63 The number of clusters is: 1 The average silhouette_score is: 0.014039844931\n",
      "For eps= 64 The number of clusters is: 1 The average silhouette_score is: 0.0281371828833\n",
      "For eps= 65 The number of clusters is: 1 The average silhouette_score is: 0.0412105143044\n",
      "For eps= 66 The number of clusters is: 2 The average silhouette_score is: -0.103694985381\n",
      "For eps= 67 The number of clusters is: 2 The average silhouette_score is: -0.102268573101\n",
      "For eps= 68 The number of clusters is: 2 The average silhouette_score is: -0.0993383322543\n",
      "For eps= 69 The number of clusters is: 2 The average silhouette_score is: -0.0962247346922\n",
      "For eps= 70 The number of clusters is: 2 The average silhouette_score is: -0.0927013048853\n",
      "For eps= 71 The number of clusters is: 1 The average silhouette_score is: 0.0856427448906\n",
      "For eps= 72 The number of clusters is: 1 The average silhouette_score is: 0.102469636219\n",
      "For eps= 73 The number of clusters is: 1 The average silhouette_score is: 0.120685347081\n",
      "For eps= 74 The number of clusters is: 1 The average silhouette_score is: 0.120685347081\n",
      "For eps= 75 The number of clusters is: 1 The average silhouette_score is: 0.124364680007\n",
      "For eps= 76 The number of clusters is: 1 The average silhouette_score is: 0.128091313184\n",
      "For eps= 77 The number of clusters is: 1 The average silhouette_score is: 0.135554267885\n",
      "For eps= 78 The number of clusters is: 1 The average silhouette_score is: 0.139259484897\n",
      "For eps= 79 The number of clusters is: 1 The average silhouette_score is: 0.142967212773\n",
      "For eps= 80 The number of clusters is: 1 The average silhouette_score is: 0.146577191124\n",
      "For eps= 81 The number of clusters is: 1 The average silhouette_score is: 0.153816497939\n",
      "For eps= 82 The number of clusters is: 1 The average silhouette_score is: 0.153816497939\n",
      "For eps= 83 The number of clusters is: 1 The average silhouette_score is: 0.157164685298\n",
      "For eps= 84 The number of clusters is: 2 The average silhouette_score is: 0.131467385811\n",
      "For eps= 85 The number of clusters is: 2 The average silhouette_score is: 0.139350061409\n",
      "For eps= 86 The number of clusters is: 2 The average silhouette_score is: 0.141966582249\n",
      "For eps= 87 The number of clusters is: 2 The average silhouette_score is: 0.146182515127\n",
      "For eps= 88 The number of clusters is: 2 The average silhouette_score is: 0.148498791335\n",
      "For eps= 89 The number of clusters is: 2 The average silhouette_score is: 0.148498791335\n",
      "For eps= 90 The number of clusters is: 2 The average silhouette_score is: 0.15328849904\n",
      "For eps= 91 The number of clusters is: 2 The average silhouette_score is: 0.15528197333\n",
      "For eps= 92 The number of clusters is: 2 The average silhouette_score is: 0.15774729865\n",
      "For eps= 93 The number of clusters is: 2 The average silhouette_score is: 0.160209151923\n",
      "For eps= 94 The number of clusters is: 2 The average silhouette_score is: 0.164886695094\n",
      "For eps= 95 The number of clusters is: 2 The average silhouette_score is: 0.167292206511\n",
      "For eps= 96 The number of clusters is: 2 The average silhouette_score is: 0.169655982594\n",
      "For eps= 97 The number of clusters is: 2 The average silhouette_score is: 0.172045099018\n",
      "For eps= 98 The number of clusters is: 2 The average silhouette_score is: 0.174384245737\n",
      "For eps= 99 The number of clusters is: 2 The average silhouette_score is: 0.176484946327\n",
      "For eps= 100 The number of clusters is: 2 The average silhouette_score is: 0.176484946327\n",
      "For eps= 101 The number of clusters is: 2 The average silhouette_score is: 0.178381161654\n",
      "For eps= 102 The number of clusters is: 2 The average silhouette_score is: 0.180361278231\n",
      "For eps= 103 The number of clusters is: 2 The average silhouette_score is: 0.180361278231\n",
      "For eps= 104 The number of clusters is: 1 The average silhouette_score is: 0.251571567333\n",
      "For eps= 105 The number of clusters is: 1 The average silhouette_score is: 0.258824616745\n",
      "For eps= 106 The number of clusters is: 1 The average silhouette_score is: 0.265948563235\n",
      "For eps= 107 The number of clusters is: 1 The average silhouette_score is: 0.269630934976\n",
      "For eps= 108 The number of clusters is: 1 The average silhouette_score is: 0.276834283372\n",
      "For eps= 109 The number of clusters is: 1 The average silhouette_score is: 0.302105382088\n",
      "For eps= 110 The number of clusters is: 1 The average silhouette_score is: 0.309276209187\n",
      "For eps= 111 The number of clusters is: 1 The average silhouette_score is: 0.316053349393\n",
      "For eps= 112 The number of clusters is: 1 The average silhouette_score is: 0.316053349393\n",
      "For eps= 113 The number of clusters is: 1 The average silhouette_score is: 0.316053349393\n",
      "For eps= 114 The number of clusters is: 1 The average silhouette_score is: 0.319931835166\n",
      "For eps= 115 The number of clusters is: 1 The average silhouette_score is: 0.32325031772\n",
      "For eps= 116 The number of clusters is: 1 The average silhouette_score is: 0.330835328906\n",
      "For eps= 117 The number of clusters is: 1 The average silhouette_score is: 0.338693899248\n",
      "For eps= 118 The number of clusters is: 1 The average silhouette_score is: 0.338693899248\n",
      "For eps= 119 The number of clusters is: 1 The average silhouette_score is: 0.342730264466\n"
     ]
    },
    {
     "data": {
      "image/png": "[encoded data removed]",
      "text/plain": [
       "<matplotlib.figure.Figure at 0x20766c5e828>"
      ]
     },
     "metadata": {},
     "output_type": "display_data"
    },
    {
     "name": "stdout",
     "output_type": "stream",
     "text": [
      "[-1  0 -1 -1  0  0  0 -1  0 -1  0  0 -1  0 -1  0  0  1 -1  0  0  0  0  0  0\n",
      " -1  0 -1  0  0 -1  0  0  0  0  0 -1  0  0  0 -1 -1 -1 -1  0  0  0  0 -1  0\n",
      "  0 -1  0 -1  0  0 -1  0 -1 -1  0  0 -1 -1  0  0 -1 -1 -1  0 -1  0  0 -1  0\n",
      " -1 -1 -1  0  0  0  0  0  0  0  0 -1  0  0 -1 -1 -1 -1 -1  0 -1 -1 -1  0  0\n",
      "  0  0 -1 -1 -1  0  0  0 -1  0 -1 -1  0 -1  0  0 -1  0  0  0  0 -1  0  0 -1\n",
      "  0  0  0  0  0 -1  0  0  0  0  0  0  0  0 -1  0  0  0  0  0  0 -1  0  0  0\n",
      "  0  0  0  0 -1  0  0  0  0  0  0  0  0 -1  0 -1  0  0 -1  0  0  0 -1  0  0\n",
      " -1  0  0 -1 -1  0  0  0  0  0 -1  0 -1  0  0 -1  0  0 -1  0 -1  0  0 -1  0\n",
      "  0  0  0 -1  0 -1  0  0 -1  0 -1 -1  0  0  0  0  0 -1 -1 -1 -1  0  0  0  0\n",
      "  0 -1 -1  0 -1 -1 -1  0  0  0 -1  0 -1  0 -1 -1 -1  0  0 -1  0  0  0 -1 -1\n",
      " -1 -1  0 -1  0  0  0 -1  0 -1  0  0 -1  0  0 -1 -1 -1  0  0 -1 -1 -1 -1  0\n",
      "  0  1 -1 -1 -1 -1  0 -1  0 -1 -1  0 -1  0 -1  0  0 -1  0  0 -1 -1  0]\n",
      "for n_cluster =  2 , hash_size =  2 , k =  1 , vipno_pos =  91 , knn:  [1595132332932]\n",
      "output:  1595132332932  Same cluster\n",
      "for n_cluster =  2 , hash_size =  2 , k =  2 , vipno_pos =  91 , knn:  [2900001564793, 1590151470542]\n",
      "output:  2900001564793  Same cluster\n",
      "output:  1590151470542  Same cluster\n",
      "for n_cluster =  2 , hash_size =  2 , k =  3 , vipno_pos =  91 , knn:  [2900000549289, 1590142192491, 1593140967467]\n",
      "output:  2900000549289  Same cluster\n",
      "output:  1590142192491  Same cluster\n",
      "output:  1593140967467  Same cluster\n",
      "for n_cluster =  2 , hash_size =  2 , k =  4 , vipno_pos =  91 , knn:  [2900001564793, 1590151470542, 1595132332932, 2900000549289]\n",
      "output:  2900001564793  Same cluster\n",
      "output:  1590151470542  Same cluster\n",
      "output:  1595132332932  Same cluster\n",
      "output:  2900000549289  Same cluster\n",
      "for n_cluster =  2 , hash_size =  2 , k =  5 , vipno_pos =  91 , knn:  [2900001564793, 1590151470542, 1595151110818, 1593140967467, 1591150424154]\n",
      "output:  2900001564793  Same cluster\n",
      "output:  1590151470542  Same cluster\n",
      "output:  1595151110818  Same cluster\n",
      "output:  1593140967467  Same cluster\n",
      "output:  1591150424154  Same cluster\n",
      "for n_cluster =  2 , hash_size =  14 , k =  1 : no knn output\n",
      "for n_cluster =  2 , hash_size =  14 , k =  2 : no knn output\n",
      "for n_cluster =  2 , hash_size =  14 , k =  3 : no knn output\n",
      "for n_cluster =  2 , hash_size =  14 , k =  4 : no knn output\n",
      "for n_cluster =  2 , hash_size =  14 , k =  5 : no knn output\n",
      "for n_cluster =  2 , hash_size =  29 , k =  1 : no knn output\n",
      "for n_cluster =  2 , hash_size =  29 , k =  2 : no knn output\n",
      "for n_cluster =  2 , hash_size =  29 , k =  3 : no knn output\n",
      "for n_cluster =  2 , hash_size =  29 , k =  4 : no knn output\n",
      "for n_cluster =  2 , hash_size =  29 , k =  5 : no knn output\n",
      "for n_cluster =  2 , hash_size =  59 , k =  1 : no knn output\n",
      "for n_cluster =  2 , hash_size =  59 , k =  2 : no knn output\n",
      "for n_cluster =  2 , hash_size =  59 , k =  3 : no knn output\n",
      "for n_cluster =  2 , hash_size =  59 , k =  4 : no knn output\n",
      "for n_cluster =  2 , hash_size =  59 , k =  5 : no knn output\n",
      "for n_cluster =  2 , hash_size =  89 , k =  1 : no knn output\n",
      "for n_cluster =  2 , hash_size =  89 , k =  2 : no knn output\n",
      "for n_cluster =  2 , hash_size =  89 , k =  3 : no knn output\n",
      "for n_cluster =  2 , hash_size =  89 , k =  4 : no knn output\n",
      "for n_cluster =  2 , hash_size =  89 , k =  5 : no knn output\n",
      "for n_cluster =  2 , hash_size =  149 , k =  1 : no knn output\n",
      "for n_cluster =  2 , hash_size =  149 , k =  2 : no knn output\n",
      "for n_cluster =  2 , hash_size =  149 , k =  3 : no knn output\n",
      "for n_cluster =  2 , hash_size =  149 , k =  4 : no knn output\n",
      "for n_cluster =  2 , hash_size =  149 , k =  5 : no knn output\n"
     ]
    },
    {
     "data": {
      "image/png": "[encoded data removed]",
      "text/plain": [
       "<matplotlib.figure.Figure at 0x20766dd3a58>"
      ]
     },
     "metadata": {},
     "output_type": "display_data"
    },
    {
     "name": "stdout",
     "output_type": "stream",
     "text": [
      "KNN: 0.1453579715884068 DBSCAN: 0.8015721798740176\n"
     ]
    }
   ],
   "source": [
    "if __name__ == '__main__':\n",
    "    data, data_array, vipno_num, vipno_len = pre_data()\n",
    "    #发现当且仅当min_samples=2时，才能够得出两个以上的聚类，\n",
    "    #当eps小于100时，能得出两个以上聚类\n",
    "    #silhouette在[1, 100]区间内随eps递增\n",
    "    #当eps=103时，得出2个簇，silhouette_score=0.18\n",
    "    question_a(data_array)\n",
    "    db_time, kn_time = question_b(data, data_array, vipno_num, vipno_len, eps = 103)\n",
    "    \n",
    "    \n",
    "    name_list = ['KNN','DBSCAN']  \n",
    "    time_list = [kn_time, db_time]  \n",
    "    color_list = ['red', 'green']\n",
    "    plt.bar(range(len(time_list)), time_list,color=color_list,tick_label=name_list)  \n",
    "    plt.show()  \n",
    "    print(\"KNN:\", kn_time, \"DBSCAN:\", db_time)"
   ]
  },
  {
   "cell_type": "code",
   "execution_count": null,
   "metadata": {
    "collapsed": true
   },
   "outputs": [],
   "source": []
  }
 ],
 "metadata": {
  "kernelspec": {
   "display_name": "Python 3",
   "language": "python",
   "name": "python3"
  },
  "language_info": {
   "codemirror_mode": {
    "name": "ipython",
    "version": 3
   },
   "file_extension": ".py",
   "mimetype": "text/x-python",
   "name": "python",
   "nbconvert_exporter": "python",
   "pygments_lexer": "ipython3",
   "version": "3.6.2"
  }
 },
 "nbformat": 4,
 "nbformat_minor": 2
}
