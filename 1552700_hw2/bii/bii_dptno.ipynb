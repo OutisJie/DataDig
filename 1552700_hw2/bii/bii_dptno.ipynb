{
 "cells": [
  {
   "cell_type": "code",
   "execution_count": 1,
   "metadata": {
    "collapsed": true
   },
   "outputs": [],
   "source": [
    "import pandas as pd\n",
    "import time\n",
    "import bii_model"
   ]
  },
  {
   "cell_type": "code",
   "execution_count": 2,
   "metadata": {
    "scrolled": false
   },
   "outputs": [
    {
     "name": "stdout",
     "output_type": "stream",
     "text": [
      "for dptno, threshold:  2\n",
      "for dptno, threshold:  4\n",
      "for dptno, threshold:  6\n",
      "for dptno, threshold:  8\n",
      "for dptno, threshold:  10\n",
      "for dptno, threshold:  2\n",
      "for dptno, threshold:  4\n",
      "for dptno, threshold:  6\n",
      "for dptno, threshold:  8\n",
      "for dptno, threshold:  10\n",
      "for dptno, old data: 17.763886876545\n",
      "for dptno, new data: 34.321589936364504\n"
     ]
    }
   ],
   "source": [
    "if __name__ == \"__main__\":\n",
    "    old_df = pd.read_csv('../trade.csv', usecols = ['uid', 'vipno', 'sldat', 'pluno', 'dptno', 'bndno'])\n",
    "    old_data = bii_model.pre_data(old_df)\n",
    "    start = time.clock()\n",
    "    bii_model.fp_dptno(old_data)\n",
    "    time_old = time.clock() - start\n",
    "    new_df = pd.read_csv('../trade_new.csv', usecols=['uid', 'vipno', 'sldatime', 'pluno', 'dptno', 'bndno'])\n",
    "    new_df.rename(columns={ new_df.columns[1]: \"sldat\" }, inplace=True)  \n",
    "    new_data = bii_model.pre_data(new_df)\n",
    "    start = time.clock()\n",
    "    bii_model.fp_dptno(new_data)\n",
    "    time_new = time.clock() - start\n",
    "    \n",
    "    print(\"for dptno, old data:\", time_old)\n",
    "    print(\"for dptno, new data:\", time_new)"
   ]
  },
  {
   "cell_type": "code",
   "execution_count": null,
   "metadata": {
    "collapsed": true
   },
   "outputs": [],
   "source": []
  }
 ],
 "metadata": {
  "kernelspec": {
   "display_name": "Python 3",
   "language": "python",
   "name": "python3"
  },
  "language_info": {
   "codemirror_mode": {
    "name": "ipython",
    "version": 3
   },
   "file_extension": ".py",
   "mimetype": "text/x-python",
   "name": "python",
   "nbconvert_exporter": "python",
   "pygments_lexer": "ipython3",
   "version": "3.6.2"
  }
 },
 "nbformat": 4,
 "nbformat_minor": 2
}
