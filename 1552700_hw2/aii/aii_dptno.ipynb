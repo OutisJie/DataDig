{
 "cells": [
  {
   "cell_type": "code",
   "execution_count": 1,
   "metadata": {
    "collapsed": true
   },
   "outputs": [],
   "source": [
    "import pandas as pd\n",
    "import numpy as np\n",
    "import time\n",
    "import fpGrowth "
   ]
  },
  {
   "cell_type": "code",
   "execution_count": 2,
   "metadata": {
    "collapsed": true
   },
   "outputs": [],
   "source": [
    "#预处理数据\n",
    "def pre_data(df):\n",
    "    df['timestamp'] = pd.to_datetime(df['sldat'])\n",
    "    \n",
    "    #分别按vipno、sldat排序\n",
    "    data = df.sort_values(by=['vipno', 'sldat'])\n",
    "    \n",
    "    #分组\n",
    "    data['rank'] = data['timestamp'].groupby(data['vipno']).rank(ascending=0, method='first')\n",
    "    \n",
    "    #取每个vipno的前60%的数据\n",
    "    data = data.groupby(['vipno'], as_index = False).apply(lambda x: x[x['rank'] <=  round(0.6 * x['rank'].max())])\n",
    "    #整理\n",
    "    data = data.drop(['timestamp', 'rank'], axis = 1).reset_index(drop=True)\n",
    "    return data"
   ]
  },
  {
   "cell_type": "code",
   "execution_count": 3,
   "metadata": {
    "collapsed": true
   },
   "outputs": [],
   "source": [
    "#提出dptno的数据\n",
    "def pre_dptno(data):\n",
    "    #丢弃多余的列\n",
    "    data_dptno = data.drop(['sldat', 'pluno', 'bndno'], axis = 1)\n",
    "    \n",
    "    #合并订单\n",
    "    data_dptno['value'] = data_dptno['dptno']\n",
    "    data_dptno = data_dptno.pivot_table(data_dptno , index = ['vipno'], columns = 'dptno')\n",
    "    \n",
    "    #整理\n",
    "    data_dptno = data_dptno.fillna(0).transpose().loc['value'].transpose()\n",
    "    del data_dptno.index.name\n",
    "    del data_dptno.transpose().index.name\n",
    "    \n",
    "    #将dataframe转为array\n",
    "    array_dptno = []\n",
    "    for row in data_dptno.as_matrix():\n",
    "        array_dptno.append([x for x in row if x != 0.0])\n",
    "    return array_dptno"
   ]
  },
  {
   "cell_type": "code",
   "execution_count": 6,
   "metadata": {
    "collapsed": true
   },
   "outputs": [],
   "source": [
    "def fp_dptno(data):\n",
    "    thresholds = [2, 4, 6, 8, 10]\n",
    "    array_dptno = pre_dptno(data)\n",
    "    for n in thresholds:\n",
    "        freq_sets = fpGrowth.fpGrowth(array_dptno, n)\n",
    "        print(\"for dptno, threshold: \", n)\n",
    "        for k in freq_sets:\n",
    "            if len(k) >= 2:\n",
    "                print(k, freq_sets[k])"
   ]
  },
  {
   "cell_type": "code",
   "execution_count": 5,
   "metadata": {
    "scrolled": false
   },
   "outputs": [
    {
     "name": "stdout",
     "output_type": "stream",
     "text": [
      "for dptno, threshold:  2\n",
      "for dptno, threshold:  4\n",
      "for dptno, threshold:  6\n",
      "for dptno, threshold:  8\n",
      "for dptno, threshold:  10\n",
      "for dptno, threshold:  2\n",
      "for dptno, threshold:  4\n",
      "for dptno, threshold:  6\n",
      "for dptno, threshold:  8\n",
      "for dptno, threshold:  10\n",
      "for dptno, old_data: 8.602202131375883\n",
      "for dptno, new_data: 16.657914081854152\n"
     ]
    }
   ],
   "source": [
    "if __name__ == \"__main__\":\n",
    "    old_df = pd.read_csv('../trade.csv', usecols=['vipno', 'sldat', 'pluno', 'dptno', 'bndno'])\n",
    "    #旧数据\n",
    "    old_data = pre_data(old_df)\n",
    "    start = time.clock()\n",
    "    fp_dptno(old_data)\n",
    "    time_old = time.clock() - start\n",
    "    \n",
    "    #新数据\n",
    "    new_df = pd.read_csv('../trade_new.csv', usecols=['vipno', 'sldatime', 'pluno', 'dptno', 'bndno'])\n",
    "    new_df.rename(columns={ new_df.columns[0]: \"sldat\" }, inplace=True)    \n",
    "    new_data = pre_data(new_df)\n",
    "    start = time.clock()\n",
    "    fp_dptno(new_data)\n",
    "    time_new = time.clock() - start\n",
    "    \n",
    "    print(\"for dptno, old_data:\" , time_old)\n",
    "    print(\"for dptno, new_data:\" , time_new)"
   ]
  },
  {
   "cell_type": "code",
   "execution_count": null,
   "metadata": {
    "collapsed": true
   },
   "outputs": [],
   "source": []
  }
 ],
 "metadata": {
  "kernelspec": {
   "display_name": "Python 3",
   "language": "python",
   "name": "python3"
  },
  "language_info": {
   "codemirror_mode": {
    "name": "ipython",
    "version": 3
   },
   "file_extension": ".py",
   "mimetype": "text/x-python",
   "name": "python",
   "nbconvert_exporter": "python",
   "pygments_lexer": "ipython3",
   "version": "3.6.2"
  }
 },
 "nbformat": 4,
 "nbformat_minor": 2
}
